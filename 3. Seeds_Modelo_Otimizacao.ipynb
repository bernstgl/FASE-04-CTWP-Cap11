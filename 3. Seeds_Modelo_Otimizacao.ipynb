{
 "cells": [
  {
   "cell_type": "markdown",
   "id": "f47b125f",
   "metadata": {},
   "source": [
    "# Tarefa 3: Otimização dos Modelos para Melhorar o Desempenho"
   ]
  },
  {
   "cell_type": "markdown",
   "id": "90e6edeb",
   "metadata": {},
   "source": [
    "## Passo 1: Ajuste de hiperparâmetros usando Grid Search e Randomized Search"
   ]
  },
  {
   "cell_type": "code",
   "execution_count": null,
   "id": "8f93b0e7",
   "metadata": {},
   "outputs": [],
   "source": [
    "\n",
    "from sklearn.model_selection import GridSearchCV, RandomizedSearchCV\n",
    "import numpy as np\n",
    "\n",
    "# Definindo os parâmetros para ajuste\n",
    "param_grids = {\n",
    "    \"KNN\": {\n",
    "        \"n_neighbors\": [3, 5, 7, 9, 11]\n",
    "    },\n",
    "    \"Random Forest\": {\n",
    "        \"n_estimators\": [50, 100, 200],\n",
    "        \"max_depth\": [None, 10, 20, 30],\n",
    "        \"min_samples_split\": [2, 5, 10]\n",
    "    },\n",
    "    \"SVM\": {\n",
    "        \"C\": [0.1, 1, 10, 100],\n",
    "        \"kernel\": [\"linear\", \"rbf\", \"poly\"]\n",
    "    },\n",
    "    \"Logistic Regression\": {\n",
    "        \"C\": [0.1, 1, 10, 100]\n",
    "    }\n",
    "}\n",
    "\n",
    "# Criando dicionário para armazenar os melhores modelos\n",
    "best_models = {}\n",
    "best_params = {}\n",
    "\n",
    "# Ajustando os modelos com Grid Search\n",
    "for model_name, param_grid in param_grids.items():\n",
    "    model = models[model_name]\n",
    "    grid_search = GridSearchCV(model, param_grid, cv=5, scoring=\"accuracy\", n_jobs=-1)\n",
    "    grid_search.fit(X_train, y_train)\n",
    "    best_models[model_name] = grid_search.best_estimator_\n",
    "    best_params[model_name] = grid_search.best_params_\n",
    "\n",
    "# Exibindo os melhores parâmetros\n",
    "best_params\n"
   ]
  },
  {
   "cell_type": "markdown",
   "id": "0cd79614",
   "metadata": {},
   "source": [
    "## Passo 2: Treinamento dos modelos otimizados"
   ]
  },
  {
   "cell_type": "code",
   "execution_count": null,
   "id": "38d5551a",
   "metadata": {},
   "outputs": [],
   "source": [
    "\n",
    "# Avaliação dos modelos otimizados\n",
    "optimized_results = {}\n",
    "for model_name, model in best_models.items():\n",
    "    # Predizer no conjunto de teste\n",
    "    y_pred = model.predict(X_test)\n",
    "    # Avaliar desempenho\n",
    "    report = classification_report(y_test, y_pred, output_dict=True)\n",
    "    optimized_results[model_name] = report\n",
    "\n",
    "# Comparando as métricas de desempenho\n",
    "optimized_results_df = pd.DataFrame({model: optimized_results[model]['accuracy'] for model in optimized_results}, index=[\"Accuracy\"])\n",
    "optimized_results_df.T\n"
   ]
  },
  {
   "cell_type": "markdown",
   "id": "86393517",
   "metadata": {},
   "source": [
    "## Passo 3: Matrizes de confusão para os modelos otimizados"
   ]
  },
  {
   "cell_type": "code",
   "execution_count": null,
   "id": "87e10051",
   "metadata": {},
   "outputs": [],
   "source": [
    "\n",
    "# Plotando matrizes de confusão\n",
    "for model_name, model in best_models.items():\n",
    "    y_pred = model.predict(X_test)\n",
    "    cm = confusion_matrix(y_test, y_pred)\n",
    "    \n",
    "    plt.figure(figsize=(5, 4))\n",
    "    sns.heatmap(cm, annot=True, fmt='d', cmap='Blues', xticklabels=[1, 2, 3], yticklabels=[1, 2, 3])\n",
    "    plt.title(f\"Matriz de Confusão (Otimizado): {model_name}\")\n",
    "    plt.xlabel(\"Predito\")\n",
    "    plt.ylabel(\"Real\")\n",
    "    plt.show()\n"
   ]
  },
  {
   "cell_type": "markdown",
   "id": "56d2cddb",
   "metadata": {},
   "source": [
    "## Passo 4: Comparação dos modelos otimizados com os modelos iniciais"
   ]
  },
  {
   "cell_type": "code",
   "execution_count": null,
   "id": "a566ad66",
   "metadata": {},
   "outputs": [],
   "source": [
    "\n",
    "# Comparando métricas antes e depois da otimização\n",
    "comparison_df = pd.DataFrame({\n",
    "    \"Initial Accuracy\": [results[model][\"accuracy\"] for model in results],\n",
    "    \"Optimized Accuracy\": [optimized_results[model][\"accuracy\"] for model in optimized_results]\n",
    "}, index=results.keys())\n",
    "\n",
    "comparison_df\n"
   ]
  }
 ],
 "metadata": {},
 "nbformat": 4,
 "nbformat_minor": 5
}
