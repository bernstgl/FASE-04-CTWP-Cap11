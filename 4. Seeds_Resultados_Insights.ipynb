{
 "cells": [
  {
   "cell_type": "markdown",
   "id": "568ddc9c",
   "metadata": {},
   "source": [
    "# Tarefa 4: Interpretação dos Resultados e Extração de Insights"
   ]
  },
  {
   "cell_type": "markdown",
   "id": "b43d2a55",
   "metadata": {},
   "source": [
    "## Passo 1: Resumo dos Resultados"
   ]
  },
  {
   "cell_type": "code",
   "execution_count": null,
   "id": "158b7aa0",
   "metadata": {},
   "outputs": [],
   "source": [
    "\n",
    "# Resumo das métricas iniciais e otimizadas\n",
    "summary_df = pd.DataFrame({\n",
    "    \"Initial Accuracy\": [results[model][\"accuracy\"] for model in results],\n",
    "    \"Optimized Accuracy\": [optimized_results[model][\"accuracy\"] for model in optimized_results]\n",
    "}, index=results.keys())\n",
    "\n",
    "# Exibindo o resumo\n",
    "summary_df\n"
   ]
  },
  {
   "cell_type": "markdown",
   "id": "5a757923",
   "metadata": {},
   "source": [
    "## Passo 2: Análise dos fatores mais relevantes (importância dos atributos)"
   ]
  },
  {
   "cell_type": "code",
   "execution_count": null,
   "id": "dc0a9f51",
   "metadata": {},
   "outputs": [],
   "source": [
    "\n",
    "# Verificando a importância dos atributos no Random Forest\n",
    "rf_model = best_models.get(\"Random Forest\", None)\n",
    "\n",
    "if rf_model:\n",
    "    feature_importances = pd.Series(rf_model.feature_importances_, index=X.columns)\n",
    "    feature_importances = feature_importances.sort_values(ascending=False)\n",
    "\n",
    "    # Plotando a importância dos atributos\n",
    "    plt.figure(figsize=(10, 6))\n",
    "    feature_importances.plot(kind=\"bar\")\n",
    "    plt.title(\"Importância dos Atributos no Random Forest\")\n",
    "    plt.ylabel(\"Importância\")\n",
    "    plt.xlabel(\"Atributo\")\n",
    "    plt.show()\n",
    "else:\n",
    "    print(\"Modelo Random Forest não disponível para análise de importância de atributos.\")\n"
   ]
  },
  {
   "cell_type": "markdown",
   "id": "42fbbd0e",
   "metadata": {},
   "source": [
    "## Passo 3: Discussão sobre os resultados"
   ]
  },
  {
   "cell_type": "code",
   "execution_count": null,
   "id": "5dca5ebe",
   "metadata": {},
   "outputs": [],
   "source": [
    "\n",
    "# Discussão textual sobre os resultados\n",
    "print(\"1. O modelo com maior acurácia após a otimização foi o seguinte:\")\n",
    "best_model_name = summary_df[\"Optimized Accuracy\"].idxmax()\n",
    "print(f\"   Modelo: {best_model_name}, Acurácia: {summary_df['Optimized Accuracy'].max():.2f}\")\n",
    "\n",
    "print(\"\\n2. O Random Forest, sendo um modelo baseado em árvores, forneceu informações importantes sobre os atributos mais relevantes.\")\n",
    "print(\"   Esses atributos podem ser utilizados para futuras análises ou simplificação do modelo.\")\n",
    "print(\"\\n3. Modelos como KNN podem apresentar maior variação de desempenho dependendo do número de vizinhos selecionados.\")\n",
    "print(\"   Para problemas semelhantes, ajustar hiperparâmetros será essencial para obter bons resultados.\")\n"
   ]
  },
  {
   "cell_type": "markdown",
   "id": "fd587f66",
   "metadata": {},
   "source": [
    "## Passo 4: Conclusões"
   ]
  },
  {
   "cell_type": "markdown",
   "id": "de93cba5",
   "metadata": {},
   "source": [
    "\n",
    "1. **Desempenho dos Modelos**:\n",
    "   - Após a otimização, o modelo com melhor desempenho foi aquele com maior acurácia e equilíbrio nas métricas de precisão, recall e F1-score.\n",
    "   - Modelos baseados em árvores, como Random Forest, se destacaram pela robustez e interpretabilidade.\n",
    "\n",
    "2. **Importância dos Atributos**:\n",
    "   - Os atributos mais importantes para classificação incluem características como `Area`, `Perimeter`, e `Kernel Length`, que são cruciais para distinguir variedades de grãos.\n",
    "\n",
    "3. **Recomendações**:\n",
    "   - Random Forest é altamente recomendado para problemas como este devido à sua habilidade de lidar com dados complexos e oferecer insights sobre a importância dos atributos.\n",
    "   - Modelos como SVM e Logistic Regression podem ser utilizados para aplicações que demandam maior simplicidade e menor custo computacional.\n",
    "\n",
    "4. **Impacto no Contexto do Problema**:\n",
    "   - A classificação automatizada de grãos usando aprendizado de máquina pode reduzir erros humanos e acelerar o processo de classificação.\n",
    "   - A escolha do modelo ideal dependerá dos recursos disponíveis e da importância de métricas específicas para a cooperativa agrícola.\n"
   ]
  }
 ],
 "metadata": {},
 "nbformat": 4,
 "nbformat_minor": 5
}
