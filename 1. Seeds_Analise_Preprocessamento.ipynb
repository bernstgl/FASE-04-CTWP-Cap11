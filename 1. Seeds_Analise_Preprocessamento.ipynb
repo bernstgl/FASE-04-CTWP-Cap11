{
 "cells": [
  {
   "cell_type": "markdown",
   "id": "d6d2a61c",
   "metadata": {},
   "source": [
    "# Tarefa 1: Análise e Pré-processamento de Dados"
   ]
  },
  {
   "cell_type": "markdown",
   "id": "997b26c4",
   "metadata": {},
   "source": [
    "## Passo 1: Importação e visualização inicial dos dados"
   ]
  },
  {
   "cell_type": "code",
   "execution_count": null,
   "id": "63a20437",
   "metadata": {},
   "outputs": [],
   "source": [
    "\n",
    "# Importando bibliotecas\n",
    "import pandas as pd\n",
    "import matplotlib.pyplot as plt\n",
    "import seaborn as sns\n",
    "\n",
    "# Carregando os dados\n",
    "columns = [\n",
    "    \"Area\", \"Perimeter\", \"Compactness\", \n",
    "    \"Kernel Length\", \"Kernel Width\", \n",
    "    \"Asymmetry Coefficient\", \"Kernel Groove Length\", \"Class\"\n",
    "]\n",
    "data_path = \"seeds_dataset.txt\"\n",
    "data = pd.read_csv(data_path, delim_whitespace=True, header=None, names=columns)\n",
    "\n",
    "# Exibindo as primeiras linhas\n",
    "data.head()\n"
   ]
  },
  {
   "cell_type": "markdown",
   "id": "b3fe8507",
   "metadata": {},
   "source": [
    "## Passo 2: Estatísticas descritivas"
   ]
  },
  {
   "cell_type": "code",
   "execution_count": null,
   "id": "4b96d49b",
   "metadata": {},
   "outputs": [],
   "source": [
    "\n",
    "# Calculando estatísticas descritivas\n",
    "data.describe().T\n"
   ]
  },
  {
   "cell_type": "markdown",
   "id": "436e53da",
   "metadata": {},
   "source": [
    "## Passo 3: Visualização da distribuição das características"
   ]
  },
  {
   "cell_type": "code",
   "execution_count": null,
   "id": "5411b737",
   "metadata": {},
   "outputs": [],
   "source": [
    "\n",
    "# Histogramas\n",
    "data.hist(bins=15, figsize=(15, 10))\n",
    "plt.tight_layout()\n",
    "plt.show()\n",
    "\n",
    "# Boxplots\n",
    "plt.figure(figsize=(15, 8))\n",
    "sns.boxplot(data=data.drop(columns='Class'))\n",
    "plt.xticks(rotation=45)\n",
    "plt.show()\n"
   ]
  },
  {
   "cell_type": "markdown",
   "id": "f743cdf2",
   "metadata": {},
   "source": [
    "## Passo 4: Gráficos de dispersão para correlações"
   ]
  },
  {
   "cell_type": "code",
   "execution_count": null,
   "id": "6414b5b5",
   "metadata": {},
   "outputs": [],
   "source": [
    "\n",
    "# Gráficos de dispersão\n",
    "sns.pairplot(data, hue=\"Class\", diag_kind=\"kde\", corner=True)\n",
    "plt.show()\n"
   ]
  },
  {
   "cell_type": "markdown",
   "id": "52c9313d",
   "metadata": {},
   "source": [
    "## Passo 5: Identificação e tratamento de valores ausentes"
   ]
  },
  {
   "cell_type": "code",
   "execution_count": null,
   "id": "156fb1d7",
   "metadata": {},
   "outputs": [],
   "source": [
    "\n",
    "# Verificando valores ausentes\n",
    "print(\"Valores ausentes por coluna:\")\n",
    "print(data.isnull().sum())\n",
    "\n",
    "# (Opcional) Tratamento de valores ausentes (não há valores ausentes no conjunto atual)\n"
   ]
  },
  {
   "cell_type": "markdown",
   "id": "f0be9948",
   "metadata": {},
   "source": [
    "## Passo 6: Escalonamento dos dados"
   ]
  },
  {
   "cell_type": "code",
   "execution_count": null,
   "id": "c8deaa31",
   "metadata": {},
   "outputs": [],
   "source": [
    "\n",
    "from sklearn.preprocessing import StandardScaler\n",
    "\n",
    "# Separando as características\n",
    "X = data.drop(columns='Class')\n",
    "y = data['Class']\n",
    "\n",
    "# Padronizando as características\n",
    "scaler = StandardScaler()\n",
    "X_scaled = scaler.fit_transform(X)\n",
    "\n",
    "# Verificando a transformação\n",
    "pd.DataFrame(X_scaled, columns=X.columns).head()\n"
   ]
  }
 ],
 "metadata": {},
 "nbformat": 4,
 "nbformat_minor": 5
}
