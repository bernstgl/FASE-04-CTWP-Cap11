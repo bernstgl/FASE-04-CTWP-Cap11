{
 "cells": [
  {
   "cell_type": "markdown",
   "id": "fb6b77f2",
   "metadata": {},
   "source": [
    "# Tarefa 2: Implementação e Comparação de Algoritmos de Classificação"
   ]
  },
  {
   "cell_type": "markdown",
   "id": "0a5a459c",
   "metadata": {},
   "source": [
    "## Passo 1: Separação dos dados em conjuntos de treinamento e teste"
   ]
  },
  {
   "cell_type": "code",
   "execution_count": null,
   "id": "499d585f",
   "metadata": {},
   "outputs": [],
   "source": [
    "\n",
    "# Importando bibliotecas necessárias\n",
    "from sklearn.model_selection import train_test_split\n",
    "from sklearn.preprocessing import StandardScaler\n",
    "\n",
    "# Carregando os dados\n",
    "columns = [\n",
    "    \"Area\", \"Perimeter\", \"Compactness\", \n",
    "    \"Kernel Length\", \"Kernel Width\", \n",
    "    \"Asymmetry Coefficient\", \"Kernel Groove Length\", \"Class\"\n",
    "]\n",
    "data_path = \"seeds_dataset.txt\"\n",
    "data = pd.read_csv(data_path, delim_whitespace=True, header=None, names=columns)\n",
    "\n",
    "# Separando as características e o alvo\n",
    "X = data.drop(columns=\"Class\")\n",
    "y = data[\"Class\"]\n",
    "\n",
    "# Padronizando os dados\n",
    "scaler = StandardScaler()\n",
    "X_scaled = scaler.fit_transform(X)\n",
    "\n",
    "# Dividindo os dados (70% treino, 30% teste)\n",
    "X_train, X_test, y_train, y_test = train_test_split(X_scaled, y, test_size=0.3, random_state=42, stratify=y)\n",
    "\n",
    "# Verificando as dimensões\n",
    "X_train.shape, X_test.shape, y_train.shape, y_test.shape\n"
   ]
  },
  {
   "cell_type": "markdown",
   "id": "052b0774",
   "metadata": {},
   "source": [
    "## Passo 2: Implementação de algoritmos de classificação"
   ]
  },
  {
   "cell_type": "code",
   "execution_count": null,
   "id": "1b518c78",
   "metadata": {},
   "outputs": [],
   "source": [
    "\n",
    "# Importando classificadores\n",
    "from sklearn.neighbors import KNeighborsClassifier\n",
    "from sklearn.ensemble import RandomForestClassifier\n",
    "from sklearn.svm import SVC\n",
    "from sklearn.naive_bayes import GaussianNB\n",
    "from sklearn.linear_model import LogisticRegression\n",
    "\n",
    "# Inicializando os modelos\n",
    "models = {\n",
    "    \"KNN\": KNeighborsClassifier(n_neighbors=5),\n",
    "    \"Random Forest\": RandomForestClassifier(random_state=42),\n",
    "    \"SVM\": SVC(kernel='linear', random_state=42),\n",
    "    \"Naive Bayes\": GaussianNB(),\n",
    "    \"Logistic Regression\": LogisticRegression(max_iter=200, random_state=42)\n",
    "}\n"
   ]
  },
  {
   "cell_type": "markdown",
   "id": "981c2d15",
   "metadata": {},
   "source": [
    "## Passo 3: Treinamento e avaliação dos modelos"
   ]
  },
  {
   "cell_type": "code",
   "execution_count": null,
   "id": "c5ce5f3f",
   "metadata": {},
   "outputs": [],
   "source": [
    "\n",
    "from sklearn.metrics import classification_report, confusion_matrix\n",
    "import pandas as pd\n",
    "\n",
    "# Treinando e avaliando os modelos\n",
    "results = {}\n",
    "for model_name, model in models.items():\n",
    "    # Treinar o modelo\n",
    "    model.fit(X_train, y_train)\n",
    "    # Predizer no conjunto de teste\n",
    "    y_pred = model.predict(X_test)\n",
    "    # Avaliar desempenho\n",
    "    report = classification_report(y_test, y_pred, output_dict=True)\n",
    "    results[model_name] = report\n",
    "\n",
    "# Comparando as métricas de desempenho\n",
    "results_df = pd.DataFrame({model: results[model]['accuracy'] for model in results}, index=[\"Accuracy\"])\n",
    "results_df.T\n"
   ]
  },
  {
   "cell_type": "markdown",
   "id": "b4a164cf",
   "metadata": {},
   "source": [
    "## Passo 4: Matrizes de confusão"
   ]
  },
  {
   "cell_type": "code",
   "execution_count": null,
   "id": "309db78c",
   "metadata": {},
   "outputs": [],
   "source": [
    "\n",
    "import matplotlib.pyplot as plt\n",
    "import seaborn as sns\n",
    "\n",
    "# Plotando matrizes de confusão\n",
    "for model_name, model in models.items():\n",
    "    y_pred = model.predict(X_test)\n",
    "    cm = confusion_matrix(y_test, y_pred)\n",
    "    \n",
    "    plt.figure(figsize=(5, 4))\n",
    "    sns.heatmap(cm, annot=True, fmt='d', cmap='Blues', xticklabels=[1, 2, 3], yticklabels=[1, 2, 3])\n",
    "    plt.title(f\"Matriz de Confusão: {model_name}\")\n",
    "    plt.xlabel(\"Predito\")\n",
    "    plt.ylabel(\"Real\")\n",
    "    plt.show()\n"
   ]
  },
  {
   "cell_type": "markdown",
   "id": "b6ff9eff",
   "metadata": {},
   "source": [
    "## Passo 5: Comparação de desempenho"
   ]
  },
  {
   "cell_type": "code",
   "execution_count": null,
   "id": "ce7d4cc1",
   "metadata": {},
   "outputs": [],
   "source": [
    "\n",
    "# Comparando métricas como precisão, recall e F1-score\n",
    "metrics_df = pd.DataFrame({\n",
    "    model: {\n",
    "        \"Precision\": results[model][\"weighted avg\"][\"precision\"],\n",
    "        \"Recall\": results[model][\"weighted avg\"][\"recall\"],\n",
    "        \"F1-score\": results[model][\"weighted avg\"][\"f1-score\"]\n",
    "    }\n",
    "    for model in results\n",
    "}).T\n",
    "\n",
    "metrics_df\n"
   ]
  }
 ],
 "metadata": {},
 "nbformat": 4,
 "nbformat_minor": 5
}
